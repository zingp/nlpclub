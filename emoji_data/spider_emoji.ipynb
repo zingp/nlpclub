{
 "cells": [
  {
   "cell_type": "markdown",
   "metadata": {},
   "source": [
    "# 爬取emoji的Unicode编码和中文表示"
   ]
  },
  {
   "cell_type": "code",
   "execution_count": 1,
   "metadata": {},
   "outputs": [],
   "source": [
    "import time\n",
    "import requests\n",
    "import emoji\n",
    "from pyquery import PyQuery as pq"
   ]
  },
  {
   "cell_type": "code",
   "execution_count": 2,
   "metadata": {},
   "outputs": [],
   "source": [
    "baseurl = \"https://dict.emojiall.com/zh-hans/list?page={}\"\n",
    "headers = {\n",
    "    \"User-Agent\": \n",
    "        \"Mozilla/5.0 (Macintosh; Intel Mac OS X 10_14_5) AppleWebKit/537.36 (KHTML, like Gecko) Chrome/79.0.3945.117 Safari/537.36\"\n",
    "    }\n",
    "emoji_unicode_file = \"./data/emoji_unicode.txt\""
   ]
  },
  {
   "cell_type": "code",
   "execution_count": 3,
   "metadata": {},
   "outputs": [],
   "source": [
    "pages = list(range(20))"
   ]
  },
  {
   "cell_type": "code",
   "execution_count": 5,
   "metadata": {},
   "outputs": [
    {
     "name": "stdout",
     "output_type": "stream",
     "text": [
      "https://dict.emojiall.com/zh-hans/list?page=0\n",
      "https://dict.emojiall.com/zh-hans/list?page=1\n",
      "https://dict.emojiall.com/zh-hans/list?page=2\n",
      "https://dict.emojiall.com/zh-hans/list?page=3\n",
      "https://dict.emojiall.com/zh-hans/list?page=4\n",
      "https://dict.emojiall.com/zh-hans/list?page=5\n",
      "https://dict.emojiall.com/zh-hans/list?page=6\n",
      "https://dict.emojiall.com/zh-hans/list?page=7\n",
      "https://dict.emojiall.com/zh-hans/list?page=8\n",
      "https://dict.emojiall.com/zh-hans/list?page=9\n",
      "https://dict.emojiall.com/zh-hans/list?page=10\n",
      "https://dict.emojiall.com/zh-hans/list?page=11\n",
      "https://dict.emojiall.com/zh-hans/list?page=12\n",
      "https://dict.emojiall.com/zh-hans/list?page=13\n",
      "https://dict.emojiall.com/zh-hans/list?page=14\n",
      "https://dict.emojiall.com/zh-hans/list?page=15\n",
      "https://dict.emojiall.com/zh-hans/list?page=16\n",
      "https://dict.emojiall.com/zh-hans/list?page=17\n",
      "https://dict.emojiall.com/zh-hans/list?page=18\n",
      "https://dict.emojiall.com/zh-hans/list?page=19\n",
      "Done!\n"
     ]
    }
   ],
   "source": [
    "with open(emoji_unicode_file, \"w\") as f:\n",
    "    pages = list(range(20))\n",
    "    for page in pages:\n",
    "        url = baseurl.format(page)\n",
    "        print(url)\n",
    "        try:\n",
    "            r = requests.get(url, headers=headers)\n",
    "        except Exception as e:\n",
    "            print(\"url: {} error:{}\".format(url, e))\n",
    "            continue\n",
    "        doc = pq(r.text)\n",
    "        tr = doc(\".content tbody tr\")\n",
    "        for i in doc(\".content tbody tr\").items():\n",
    "            line = i(\"td\").text().strip()\n",
    "            f.write(line)\n",
    "            f.write(\"\\n\")\n",
    "        time.sleep(0.5)\n",
    "    print(\"Done!\")"
   ]
  },
  {
   "cell_type": "code",
   "execution_count": 24,
   "metadata": {},
   "outputs": [
    {
     "data": {
      "text/plain": [
       "True"
      ]
     },
     "execution_count": 24,
     "metadata": {},
     "output_type": "execute_result"
    }
   ],
   "source": [
    "'☹' == '\\U00002639'"
   ]
  },
  {
   "cell_type": "code",
   "execution_count": null,
   "metadata": {},
   "outputs": [],
   "source": []
  }
 ],
 "metadata": {
  "kernelspec": {
   "display_name": "Python 3",
   "language": "python",
   "name": "python3"
  },
  "language_info": {
   "codemirror_mode": {
    "name": "ipython",
    "version": 3
   },
   "file_extension": ".py",
   "mimetype": "text/x-python",
   "name": "python",
   "nbconvert_exporter": "python",
   "pygments_lexer": "ipython3",
   "version": "3.6.9"
  }
 },
 "nbformat": 4,
 "nbformat_minor": 2
}
