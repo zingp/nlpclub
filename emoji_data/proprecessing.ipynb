{
 "cells": [
  {
   "cell_type": "markdown",
   "metadata": {},
   "source": [
    "# 数据预处理与数据集划分"
   ]
  },
  {
   "cell_type": "code",
   "execution_count": 1,
   "metadata": {},
   "outputs": [],
   "source": [
    "import os\n",
    "import re\n",
    "import emoji\n",
    "import numpy as np\n",
    "import pickle as pkl\n",
    "from copy import deepcopy"
   ]
  },
  {
   "cell_type": "code",
   "execution_count": 2,
   "metadata": {},
   "outputs": [],
   "source": [
    "src_data_file = \"./src_data.txt\"\n",
    "train = \"./data/train.txt\"\n",
    "dev = \"./data/dev.txt\"\n",
    "test = \"./data/test.txt\"\n",
    "emoji_unicode_file = \"./data/emoji_unicode.txt\"\n",
    "dir_name = [\"./data\", \"saved_dict\"]\n",
    "for d in dir_name:\n",
    "    if not os.path.exists(d):\n",
    "        os.mkdir(d)"
   ]
  },
  {
   "cell_type": "code",
   "execution_count": 3,
   "metadata": {},
   "outputs": [],
   "source": [
    "def clean_text_zh(text):\n",
    "    \"\"\"中文数据清洗\"\"\"\n",
    "    # 去除空格\n",
    "    text = re.sub(' ', '', text)\n",
    "    # 去掉全角空白符，\\u3000 是全角的空白符\n",
    "    text = re.sub('\\u3000', '', text)\n",
    "    # 去掉 \\xa0 是不间断空白符 &nbsp;\n",
    "    text = re.sub('\\xa0', '', text)\n",
    "    return text\n",
    "\n",
    "# 清除emoji\n",
    "def filter_emoji(srcstr, restr=''):  \n",
    "    \"\"\"过滤emoji\"\"\"\n",
    "    # 编译匹配表情的正则\n",
    "    prog = emoji.get_emoji_regexp()\n",
    "    return prog.sub(restr, srcstr) \n",
    "\n",
    "def load_emoji(emoji_file):\n",
    "    \"\"\"加载表情和对应的中文\"\"\"\n",
    "    dic = {}\n",
    "    with open(emoji_file, \"r\") as f:\n",
    "        for line in f:\n",
    "            if len(line.strip(\"\\n\").strip()) == 0:\n",
    "                continue\n",
    "            line = line.strip(\"\\n\")\n",
    "            line_li = line.split()\n",
    "            key = line_li[0]\n",
    "            value = line_li[-1]\n",
    "            dic[key] = value\n",
    "    return dic\n",
    "\n",
    "def emoji2zh(text, emoji_dic):\n",
    "    \"\"\"表情替换为中文\"\"\"\n",
    "    prog = emoji.get_emoji_regexp()\n",
    "    li = re.findall(prog, text)\n",
    "    for emo in li:\n",
    "        text = text.replace(text, emoji_dic.get(emo, \"表情\")) \n",
    "    return text\n",
    "\n",
    "\n",
    "def load_data(filename, emoji_dic):\n",
    "    data_li = []\n",
    "    with open(filename, \"r\") as f:\n",
    "        n = 0\n",
    "        for line in f:\n",
    "            line_li = line.split(\"\\t\")\n",
    "            label = line_li[-1].strip(\"\\n\")\n",
    "            text = line_li[0].strip()\n",
    "            text = clean_text_zh(text)\n",
    "            text = emoji2zh(text, emoji_dic)\n",
    "            data_li.append((text, label))\n",
    "    return data_li\n",
    "\n",
    "def split_dataset(data_li, rate=0.8):\n",
    "    \"\"\"训练集、验证集、测试集的划分\"\"\"\n",
    "    data = np.array(data_li)\n",
    "    np.random.seed(123)\n",
    "    np.random.shuffle(data)\n",
    "    n = len(data)\n",
    "    n_train = int(n*rate)\n",
    "    n_dev = int(n*(1-rate)/2)\n",
    "    \n",
    "    train_data = data[:n_train]\n",
    "    dev_data = data[n_train:n_train+n_dev+1]\n",
    "    test_data = data[n_train+n_dev+1:]\n",
    "    return train_data, dev_data, test_data\n",
    "\n",
    "def write_to_file(filename, data):\n",
    "    \"\"\"写入文件\"\"\"\n",
    "    with open(filename, \"w\") as f:\n",
    "        for item in data:\n",
    "            string = item[0] + \"\\t\" + item[-1] + \"\\n\"\n",
    "            f.write(string)\n",
    "    print(\"Write to {}.\".format(filename))"
   ]
  },
  {
   "cell_type": "code",
   "execution_count": 4,
   "metadata": {},
   "outputs": [],
   "source": [
    "emoji_dic = load_emoji(emoji_unicode_file)\n",
    "data = load_data(src_data_file, emoji_dic)"
   ]
  },
  {
   "cell_type": "code",
   "execution_count": 5,
   "metadata": {},
   "outputs": [],
   "source": [
    "sample_0 = deepcopy(data[:703])"
   ]
  },
  {
   "cell_type": "code",
   "execution_count": 6,
   "metadata": {},
   "outputs": [],
   "source": [
    "good_data = np.array(deepcopy(data[704:]))\n",
    "np.random.seed(123)\n",
    "np.random.shuffle(good_data)\n",
    "sample_1 = deepcopy(good_data[:703])"
   ]
  },
  {
   "cell_type": "code",
   "execution_count": 7,
   "metadata": {},
   "outputs": [
    {
     "data": {
      "text/plain": [
       "703"
      ]
     },
     "execution_count": 7,
     "metadata": {},
     "output_type": "execute_result"
    }
   ],
   "source": [
    "len(sample_1)"
   ]
  },
  {
   "cell_type": "code",
   "execution_count": 8,
   "metadata": {},
   "outputs": [],
   "source": [
    "data_li = []"
   ]
  },
  {
   "cell_type": "code",
   "execution_count": 9,
   "metadata": {},
   "outputs": [],
   "source": [
    "for i in sample_0:\n",
    "    data_li.append(i)\n",
    "for i in sample_1:\n",
    "    data_li.append(i)"
   ]
  },
  {
   "cell_type": "code",
   "execution_count": 10,
   "metadata": {},
   "outputs": [
    {
     "name": "stdout",
     "output_type": "stream",
     "text": [
      "1406\n"
     ]
    }
   ],
   "source": [
    "print(len(data_li))"
   ]
  },
  {
   "cell_type": "code",
   "execution_count": 11,
   "metadata": {},
   "outputs": [
    {
     "name": "stdout",
     "output_type": "stream",
     "text": [
      "Write to ./data/train.txt.\n",
      "Write to ./data/dev.txt.\n",
      "Write to ./data/test.txt.\n"
     ]
    }
   ],
   "source": [
    "train_data, dev_data, test_data = split_dataset(data_li, rate=0.8)\n",
    "write_to_file(train, train_data)\n",
    "write_to_file(dev, dev_data)\n",
    "write_to_file(test, test_data)"
   ]
  },
  {
   "cell_type": "code",
   "execution_count": 21,
   "metadata": {},
   "outputs": [
    {
     "data": {
      "text/plain": [
       "'😡'"
      ]
     },
     "execution_count": 21,
     "metadata": {},
     "output_type": "execute_result"
    }
   ],
   "source": [
    "b'\\\\U0001F621'.decode(\"unicode-escape\")"
   ]
  },
  {
   "cell_type": "code",
   "execution_count": null,
   "metadata": {},
   "outputs": [],
   "source": [
    "#https://dict.emojiall.com/zh-hans/list"
   ]
  }
 ],
 "metadata": {
  "kernelspec": {
   "display_name": "Python 3",
   "language": "python",
   "name": "python3"
  },
  "language_info": {
   "codemirror_mode": {
    "name": "ipython",
    "version": 3
   },
   "file_extension": ".py",
   "mimetype": "text/x-python",
   "name": "python",
   "nbconvert_exporter": "python",
   "pygments_lexer": "ipython3",
   "version": "3.6.9"
  }
 },
 "nbformat": 4,
 "nbformat_minor": 2
}
